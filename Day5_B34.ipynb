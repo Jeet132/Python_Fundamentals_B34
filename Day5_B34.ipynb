{
 "cells": [
  {
   "cell_type": "code",
   "execution_count": null,
   "metadata": {},
   "outputs": [],
   "source": [
    "# Introduction to List datatype :"
   ]
  },
  {
   "cell_type": "code",
   "execution_count": null,
   "metadata": {},
   "outputs": [],
   "source": [
    "Defination : A list is a collection of items in a particular order.\n",
    "    \n",
    "Classification : A list is classified as mutable datatype (editable).\n",
    "    \n",
    "    \n",
    "How to define a list ...?\n",
    "\n",
    "[] ----> using the square brackets we can define the list."
   ]
  },
  {
   "cell_type": "code",
   "execution_count": null,
   "metadata": {},
   "outputs": [],
   "source": []
  },
  {
   "cell_type": "code",
   "execution_count": 6,
   "metadata": {},
   "outputs": [
    {
     "name": "stdout",
     "output_type": "stream",
     "text": [
      "['amardeep', 'ayushi', 'shalini', 'mukesh', 'pavan', 'saniya']\n"
     ]
    }
   ],
   "source": [
    "students = ['amardeep', 'ayushi', 'shalini', 'mukesh', 'pavan', 'saniya']\n",
    "\n",
    "print(students)"
   ]
  },
  {
   "cell_type": "code",
   "execution_count": 8,
   "metadata": {},
   "outputs": [
    {
     "data": {
      "text/plain": [
       "list"
      ]
     },
     "execution_count": 8,
     "metadata": {},
     "output_type": "execute_result"
    }
   ],
   "source": [
    "type(students)"
   ]
  },
  {
   "cell_type": "code",
   "execution_count": 9,
   "metadata": {},
   "outputs": [
    {
     "name": "stdout",
     "output_type": "stream",
     "text": [
      "<class 'list'>\n"
     ]
    }
   ],
   "source": [
    "print(type(students))"
   ]
  },
  {
   "cell_type": "code",
   "execution_count": null,
   "metadata": {},
   "outputs": [],
   "source": []
  },
  {
   "cell_type": "code",
   "execution_count": null,
   "metadata": {},
   "outputs": [],
   "source": [
    "Requirement : I want to get the shalini name in the output ?"
   ]
  },
  {
   "cell_type": "code",
   "execution_count": null,
   "metadata": {},
   "outputs": [],
   "source": []
  },
  {
   "cell_type": "code",
   "execution_count": null,
   "metadata": {},
   "outputs": [],
   "source": [
    "Introduction to indexing :\n",
    "    \n",
    "    In a List datatype indexing starts from 0 ---> means first value is assigned at Zero Position and so on."
   ]
  },
  {
   "cell_type": "code",
   "execution_count": 10,
   "metadata": {},
   "outputs": [
    {
     "name": "stdout",
     "output_type": "stream",
     "text": [
      "shalini\n"
     ]
    }
   ],
   "source": [
    "print(students[2])"
   ]
  },
  {
   "cell_type": "code",
   "execution_count": 11,
   "metadata": {},
   "outputs": [
    {
     "name": "stdout",
     "output_type": "stream",
     "text": [
      "pavan\n"
     ]
    }
   ],
   "source": [
    "print(students[4])"
   ]
  },
  {
   "cell_type": "code",
   "execution_count": 12,
   "metadata": {},
   "outputs": [
    {
     "name": "stdout",
     "output_type": "stream",
     "text": [
      "Pavan\n"
     ]
    }
   ],
   "source": [
    "print(students[4].title())"
   ]
  },
  {
   "cell_type": "code",
   "execution_count": null,
   "metadata": {},
   "outputs": [],
   "source": []
  },
  {
   "cell_type": "code",
   "execution_count": null,
   "metadata": {},
   "outputs": [],
   "source": [
    "1. How to add a new element to the list.   # append('str') method --> It append the element in the last position.\n",
    "                                           # insert(i, 'str') method --> insert the element at desired index in the list.\n",
    "\n",
    "2. How to modify an element in the list.   # \n",
    "\n",
    "3. How to delete an element from the list."
   ]
  },
  {
   "cell_type": "code",
   "execution_count": null,
   "metadata": {},
   "outputs": [],
   "source": [
    "Requirement : I want to add ayushi in the list."
   ]
  },
  {
   "cell_type": "code",
   "execution_count": 13,
   "metadata": {},
   "outputs": [
    {
     "name": "stdout",
     "output_type": "stream",
     "text": [
      "['amardeep', 'ayushi', 'shalini', 'mukesh', 'pavan', 'saniya', 'ayushi']\n"
     ]
    }
   ],
   "source": [
    "students.append('ayushi')\n",
    "\n",
    "print(students)"
   ]
  },
  {
   "cell_type": "code",
   "execution_count": 15,
   "metadata": {},
   "outputs": [
    {
     "name": "stdout",
     "output_type": "stream",
     "text": [
      "['amardeep', 'ayushi', 'shalini', 'mukesh', 'pavan', 'saniya', 'ayushi', 'naveen']\n"
     ]
    }
   ],
   "source": [
    "students.append('naveen')\n",
    "\n",
    "print(students)"
   ]
  },
  {
   "cell_type": "code",
   "execution_count": null,
   "metadata": {},
   "outputs": [],
   "source": []
  },
  {
   "cell_type": "code",
   "execution_count": null,
   "metadata": {},
   "outputs": [],
   "source": [
    "Requirement : Adding the element at the desired index ?  --- Add Salman at 4th Position in the list"
   ]
  },
  {
   "cell_type": "code",
   "execution_count": 16,
   "metadata": {},
   "outputs": [
    {
     "name": "stdout",
     "output_type": "stream",
     "text": [
      "['amardeep', 'ayushi', 'shalini', 'mukesh', 'Salman', 'pavan', 'saniya', 'ayushi', 'naveen']\n"
     ]
    }
   ],
   "source": [
    "students.insert(4, \"Salman\")\n",
    "\n",
    "print(students)"
   ]
  },
  {
   "cell_type": "code",
   "execution_count": 18,
   "metadata": {},
   "outputs": [
    {
     "name": "stdout",
     "output_type": "stream",
     "text": [
      "SALMAN\n"
     ]
    }
   ],
   "source": [
    "print(students[4].upper())"
   ]
  },
  {
   "cell_type": "code",
   "execution_count": null,
   "metadata": {},
   "outputs": [],
   "source": []
  },
  {
   "cell_type": "code",
   "execution_count": null,
   "metadata": {},
   "outputs": [],
   "source": [
    "Requirement : want to replace shalini from the list with harika ?"
   ]
  },
  {
   "cell_type": "code",
   "execution_count": 23,
   "metadata": {},
   "outputs": [
    {
     "name": "stdout",
     "output_type": "stream",
     "text": [
      "['amardeep', 'ayushi', 'harika', 'mukesh', 'Salman', 'pavan', 'saniya', 'ayushi', 'naveen']\n"
     ]
    }
   ],
   "source": [
    "students[2] = 'harika'\n",
    "\n",
    "print(students)"
   ]
  },
  {
   "cell_type": "code",
   "execution_count": 26,
   "metadata": {},
   "outputs": [
    {
     "name": "stdout",
     "output_type": "stream",
     "text": [
      "harika\n"
     ]
    }
   ],
   "source": [
    "print(students[2])"
   ]
  },
  {
   "cell_type": "code",
   "execution_count": null,
   "metadata": {},
   "outputs": [],
   "source": []
  },
  {
   "cell_type": "code",
   "execution_count": 28,
   "metadata": {},
   "outputs": [
    {
     "name": "stdout",
     "output_type": "stream",
     "text": [
      "['amardeep', 'ayushi', 'harika', 'mukesh', 'Salman', 'pavan', 'saniya', 'ayushi', 'naveen']\n"
     ]
    }
   ],
   "source": [
    "list_stds = students.copy() # copy() method --> creates a copy and assigned to the other variable.\n",
    "\n",
    "print(list_stds)"
   ]
  },
  {
   "cell_type": "code",
   "execution_count": 29,
   "metadata": {},
   "outputs": [
    {
     "name": "stdout",
     "output_type": "stream",
     "text": [
      "['naveen', 'ayushi', 'saniya', 'pavan', 'Salman', 'mukesh', 'harika', 'ayushi', 'amardeep']\n"
     ]
    }
   ],
   "source": [
    "list_stds.reverse()     # reverse() method --> reverse the list from last to first.\n",
    "\n",
    "print(list_stds)"
   ]
  },
  {
   "cell_type": "code",
   "execution_count": 31,
   "metadata": {},
   "outputs": [
    {
     "name": "stdout",
     "output_type": "stream",
     "text": [
      "['Salman', 'amardeep', 'ayushi', 'ayushi', 'harika', 'mukesh', 'naveen', 'pavan', 'saniya']\n"
     ]
    }
   ],
   "source": [
    "list_stds.sort()\n",
    "\n",
    "print(list_stds)"
   ]
  },
  {
   "cell_type": "code",
   "execution_count": 32,
   "metadata": {},
   "outputs": [
    {
     "name": "stdout",
     "output_type": "stream",
     "text": [
      "[55, 89, 36, 26, 96, 85, 74, 15, 53, 16, 52]\n"
     ]
    }
   ],
   "source": [
    "num_list = [55, 89, 36, 26, 96, 85, 74, 15, 53, 16, 52]\n",
    "\n",
    "print(num_list)"
   ]
  },
  {
   "cell_type": "code",
   "execution_count": 33,
   "metadata": {},
   "outputs": [
    {
     "name": "stdout",
     "output_type": "stream",
     "text": [
      "[15, 16, 26, 36, 52, 53, 55, 74, 85, 89, 96]\n"
     ]
    }
   ],
   "source": [
    "num_list.sort()\n",
    "\n",
    "print(num_list)"
   ]
  },
  {
   "cell_type": "code",
   "execution_count": 37,
   "metadata": {},
   "outputs": [
    {
     "name": "stdout",
     "output_type": "stream",
     "text": [
      "11\n"
     ]
    }
   ],
   "source": [
    "x = len(num_list)   # len() method ---> returns the number of elements in the list.\n",
    "\n",
    "print(x)"
   ]
  },
  {
   "cell_type": "code",
   "execution_count": null,
   "metadata": {},
   "outputs": [],
   "source": []
  }
 ],
 "metadata": {
  "kernelspec": {
   "display_name": "Python 3",
   "language": "python",
   "name": "python3"
  },
  "language_info": {
   "codemirror_mode": {
    "name": "ipython",
    "version": 3
   },
   "file_extension": ".py",
   "mimetype": "text/x-python",
   "name": "python",
   "nbconvert_exporter": "python",
   "pygments_lexer": "ipython3",
   "version": "3.8.5"
  }
 },
 "nbformat": 4,
 "nbformat_minor": 4
}
